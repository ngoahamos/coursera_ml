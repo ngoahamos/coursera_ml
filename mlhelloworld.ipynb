{
  "nbformat": 4,
  "nbformat_minor": 0,
  "metadata": {
    "colab": {
      "name": "mlhelloworld.ipynb",
      "provenance": [],
      "authorship_tag": "ABX9TyM/Yxz5ANWKPl3aWpzWATJl",
      "include_colab_link": true
    },
    "kernelspec": {
      "name": "python3",
      "display_name": "Python 3"
    },
    "accelerator": "GPU"
  },
  "cells": [
    {
      "cell_type": "markdown",
      "metadata": {
        "id": "view-in-github",
        "colab_type": "text"
      },
      "source": [
        "<a href=\"https://colab.research.google.com/github/ngoahamos/coursera_ml/blob/master/mlhelloworld.ipynb\" target=\"_parent\"><img src=\"https://colab.research.google.com/assets/colab-badge.svg\" alt=\"Open In Colab\"/></a>"
      ]
    },
    {
      "cell_type": "markdown",
      "metadata": {
        "id": "7xGl_R4245ux",
        "colab_type": "text"
      },
      "source": [
        "A model that is able to learn the linear function ***y = 3x + 6***"
      ]
    },
    {
      "cell_type": "code",
      "metadata": {
        "id": "ImA_21RC5Gcf",
        "colab_type": "code",
        "colab": {}
      },
      "source": [
        "def calc(num):\n",
        "  return 3 * num + 6"
      ],
      "execution_count": 0,
      "outputs": []
    },
    {
      "cell_type": "code",
      "metadata": {
        "id": "huBlDwXq16X7",
        "colab_type": "code",
        "colab": {}
      },
      "source": [
        "import tensorflow as tf\n",
        "import numpy as np\n",
        "from tensorflow import keras"
      ],
      "execution_count": 0,
      "outputs": []
    },
    {
      "cell_type": "code",
      "metadata": {
        "id": "78eT0WKH2VOT",
        "colab_type": "code",
        "colab": {}
      },
      "source": [
        "xs = np.array([-2.0, -1.0, 0.0, 1.0, 2.0, 3.0, 4.0, 5.0], dtype=float)\n",
        "ys = np.array([0, 3., 6.0, 9.0, 12.0, 15.0, 18.0, 21.0 ], dtype=float)"
      ],
      "execution_count": 0,
      "outputs": []
    },
    {
      "cell_type": "code",
      "metadata": {
        "id": "3C8p1KRI3eT1",
        "colab_type": "code",
        "colab": {}
      },
      "source": [
        "model = keras.Sequential([keras.layers.Dense(units=1, input_shape=[1])])"
      ],
      "execution_count": 0,
      "outputs": []
    },
    {
      "cell_type": "code",
      "metadata": {
        "id": "pUWWHxuK3si3",
        "colab_type": "code",
        "colab": {}
      },
      "source": [
        "model.compile(optimizer=\"sgd\", loss=\"mean_squared_error\")"
      ],
      "execution_count": 0,
      "outputs": []
    },
    {
      "cell_type": "code",
      "metadata": {
        "id": "GtH086Gm33Te",
        "colab_type": "code",
        "colab": {}
      },
      "source": [
        "model.fit(xs, ys, epochs=500)"
      ],
      "execution_count": 0,
      "outputs": []
    },
    {
      "cell_type": "code",
      "metadata": {
        "id": "TfwXJR474W52",
        "colab_type": "code",
        "colab": {}
      },
      "source": [
        "print('Actual = ' + str(calc(20)))\n",
        "print('Predicted = ' + str(model.predict([20]))) "
      ],
      "execution_count": 0,
      "outputs": []
    }
  ]
}